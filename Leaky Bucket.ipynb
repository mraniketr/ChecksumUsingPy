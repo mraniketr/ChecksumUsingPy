{
 "cells": [
  {
   "cell_type": "code",
   "execution_count": 19,
   "metadata": {},
   "outputs": [
    {
     "name": "stdout",
     "output_type": "stream",
     "text": [
      "Enter Bucket Size5\n",
      "Enter Time to simulate5\n",
      "Enter the processing rate2\n",
      "Enter Packet 5\n",
      "Enter Packet 4\n",
      "Enter Packet 3\n",
      "Enter Packet 7\n",
      "Enter Packet 8\n"
     ]
    }
   ],
   "source": [
    "bucketsize = int(input(\"Enter Bucket Size\"))\n",
    "simtime = int(input(\"Enter Time to simulate\"))\n",
    "rate = int(input(\"Enter the processing rate\"))\n",
    "\n",
    "Rpacket=list() # Recieved /sent /left Packets\n",
    "Spacket=list()\n",
    "Lpacket=[0]\n",
    "Dpacket=list()\n",
    "\n",
    "time=[i for i in range(0,simtime)]\n",
    "\n",
    "for i in range(0,simtime):\n",
    "    Rpacket.append(int(input(\"Enter Packet \")))\n",
    "    \n",
    "\n",
    "\n",
    "    "
   ]
  },
  {
   "cell_type": "code",
   "execution_count": 20,
   "metadata": {},
   "outputs": [
    {
     "name": "stdout",
     "output_type": "stream",
     "text": [
      "Time [0, 1, 2, 3, 4]\n",
      "Reci [5, 4, 3, 7, 8]\n",
      "Drop [0, 2, 1, 5, 6]\n",
      "Sent [2, 2, 2, 2, 2]\n",
      "Left [3, 3, 3, 3, 3]\n"
     ]
    }
   ],
   "source": [
    "\n",
    "for i in range(0,simtime):\n",
    "    Dpacket.append((Rpacket[i]+Lpacket[i])-bucketsize)\n",
    "    Spacket.append(2)\n",
    "    Lpacket.append((Lpacket[i]+Rpacket[i])-rate-Dpacket[i])\n",
    "\n",
    "\n",
    "print(\"Time\",time)\n",
    "print(\"Reci\",Rpacket)\n",
    "print(\"Drop\",Dpacket)\n",
    "print(\"Sent\",Spacket)\n",
    "print(\"Left\",Lpacket[1:])\n",
    "\n"
   ]
  }
 ],
 "metadata": {
  "kernelspec": {
   "display_name": "Python 3",
   "language": "python",
   "name": "python3"
  },
  "language_info": {
   "codemirror_mode": {
    "name": "ipython",
    "version": 3
   },
   "file_extension": ".py",
   "mimetype": "text/x-python",
   "name": "python",
   "nbconvert_exporter": "python",
   "pygments_lexer": "ipython3",
   "version": "3.6.8"
  }
 },
 "nbformat": 4,
 "nbformat_minor": 2
}
