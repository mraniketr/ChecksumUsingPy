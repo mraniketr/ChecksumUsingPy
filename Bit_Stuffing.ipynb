{
  "nbformat": 4,
  "nbformat_minor": 0,
  "metadata": {
    "colab": {
      "name": "Bit Stuffing",
      "provenance": [],
      "collapsed_sections": [],
      "include_colab_link": true
    },
    "kernelspec": {
      "name": "python3",
      "display_name": "Python 3"
    }
  },
  "cells": [
    {
      "cell_type": "markdown",
      "metadata": {
        "id": "view-in-github",
        "colab_type": "text"
      },
      "source": [
        "<a href=\"https://colab.research.google.com/github/mraniketr/ComputerNetworkPrograms/blob/master/Bit_Stuffing.ipynb\" target=\"_parent\"><img src=\"https://colab.research.google.com/assets/colab-badge.svg\" alt=\"Open In Colab\"/></a>"
      ]
    },
    {
      "cell_type": "code",
      "metadata": {
        "id": "4qGRz0Iy2-ng",
        "colab_type": "code",
        "colab": {}
      },
      "source": [
        "bitstring=input()\n",
        "data=list(bitstring)\n",
        "print(bitstring)\n",
        "  \n",
        "  \n",
        "i=0\n",
        "c=0\n",
        "\n",
        "while(i<len(data)):\n",
        "  if(data[i]=='1'):\n",
        "      c+=1\n",
        "  else: c=0\n",
        "  \n",
        "  if(c==6):\n",
        "    data.insert(i,'0')\n",
        "    c=0\n",
        "  i+=1\n",
        "\n",
        "x=''\n",
        "x=''.join(data)\n",
        "print(x)"
      ],
      "execution_count": 0,
      "outputs": []
    },
    {
      "cell_type": "markdown",
      "metadata": {
        "id": "6zrtlArb6XWH",
        "colab_type": "text"
      },
      "source": [
        ""
      ]
    }
  ]
}