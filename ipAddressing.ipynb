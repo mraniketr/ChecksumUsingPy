{
  "nbformat": 4,
  "nbformat_minor": 0,
  "metadata": {
    "colab": {
      "name": "ipAddressing.ipynb",
      "provenance": [],
      "include_colab_link": true
    },
    "kernelspec": {
      "name": "python3",
      "display_name": "Python 3"
    }
  },
  "cells": [
    {
      "cell_type": "markdown",
      "metadata": {
        "id": "view-in-github",
        "colab_type": "text"
      },
      "source": [
        "<a href=\"https://colab.research.google.com/github/mraniketr/ComputerNetworkPrograms/blob/master/ipAddressing.ipynb\" target=\"_parent\"><img src=\"https://colab.research.google.com/assets/colab-badge.svg\" alt=\"Open In Colab\"/></a>"
      ]
    },
    {
      "cell_type": "code",
      "metadata": {
        "id": "i57tzodpsJuv",
        "colab_type": "code",
        "outputId": "e0c71fd2-2603-4b0c-bb53-3c25af6b4209",
        "colab": {
          "base_uri": "https://localhost:8080/",
          "height": 119
        }
      },
      "source": [
        "def convert2list(ip):\n",
        "    ip2=[]\n",
        "    temp=''\n",
        "    for i in range(0,len(ip)):\n",
        "        if(ip[i]!='.'):\n",
        "            temp+=ip[i]\n",
        "        else:\n",
        "            ip2.append(temp)\n",
        "            temp=''\n",
        "    ip2.append(temp)\n",
        "    ip2=[int(x) for x in ip2]\n",
        "    return ip2\n",
        "  \n",
        "def a2s(a):\n",
        "    x=''\n",
        "    for i in range(0,len(a)):\n",
        "        x=x+str(a[i])+'.'\n",
        "    return x\n",
        "\n",
        "def chkclass(x):\n",
        "    if(x in range(0,128)):\n",
        "        return 'A'\n",
        "    elif(x in range(128,192)):\n",
        "        return 'B'\n",
        "    elif(x in range(192,224)):\n",
        "        return 'C'\n",
        "    elif(x in range(224,240)):\n",
        "        return 'D'\n",
        "    else:\n",
        "        return 'E'\n",
        "\n",
        "def findaddr(ipclass,ipl):\n",
        "    if(ipclass=='A'):\n",
        "        netid=a2s(ipl[:1])\n",
        "        hostid=a2s(ipl[1:])\n",
        "        sa=str(netid)+'0.0.0'\n",
        "        ea=str(netid)+'255.255.255'\n",
        "    elif(ipclass=='B'):\n",
        "        netid=a2s(ipl[0:2])\n",
        "        hostid=a2s(ipl[2:])\n",
        "        sa=str(netid)+'0.0'\n",
        "        ea=str(netid)+'255.255'\n",
        "    elif(ipclass=='C'):\n",
        "        netid=a2s(ipl[0:3])\n",
        "        hostid=a2s(ipl[3:])\n",
        "        sa=str(netid)+'0'\n",
        "        ea=str(netid)+'255'\n",
        "    else:\n",
        "        print(\"CLASS D/E not divided in net & Host id\")\n",
        "        \n",
        "    print(\"NetID = \" ,netid)\n",
        "    print(\"HostID = \" ,hostid)\n",
        "    print(\"SA = \" ,sa)\n",
        "    print(\"EA = \" ,ea)\n",
        "    \n",
        "\n",
        "ip=input(\"Enter the IP \")\n",
        "ipl = convert2list(ip)\n",
        "ipclass=chkclass(ipl[0])\n",
        "findaddr(ipclass,ipl)\n",
        "print(\"Class = \" ,ipclass)   "
      ],
      "execution_count": 0,
      "outputs": [
        {
          "output_type": "stream",
          "text": [
            "Enter the IP 192.168.2.11\n",
            "NetID =  192.168.2.\n",
            "HostID =  11.\n",
            "SA =  192.168.2.0\n",
            "EA =  192.168.2.255\n",
            "Class =  C\n"
          ],
          "name": "stdout"
        }
      ]
    }
  ]
}