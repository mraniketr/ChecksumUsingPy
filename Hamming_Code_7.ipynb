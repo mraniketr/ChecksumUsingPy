{
  "nbformat": 4,
  "nbformat_minor": 0,
  "metadata": {
    "colab": {
      "name": "Hamming Code 7.ipynb",
      "provenance": [],
      "include_colab_link": true
    },
    "kernelspec": {
      "name": "python3",
      "display_name": "Python 3"
    }
  },
  "cells": [
    {
      "cell_type": "markdown",
      "metadata": {
        "id": "view-in-github",
        "colab_type": "text"
      },
      "source": [
        "<a href=\"https://colab.research.google.com/github/mraniketr/ComputerNetworkPrograms/blob/master/Hamming_Code_7.ipynb\" target=\"_parent\"><img src=\"https://colab.research.google.com/assets/colab-badge.svg\" alt=\"Open In Colab\"/></a>"
      ]
    },
    {
      "cell_type": "code",
      "metadata": {
        "id": "sbxYPcQpn5Kc",
        "colab_type": "code",
        "colab": {
          "base_uri": "https://localhost:8080/",
          "height": 102
        },
        "outputId": "0b192a30-86c2-4fa0-89d8-eead5f14a4e1"
      },
      "source": [
        "l=[]\n",
        "\n",
        "l.insert(0,int(input()))\n",
        "l.insert(1,int(input()))\n",
        "l.insert(2,int(input()))\n",
        "l.insert(3,l[0]^l[1]^l[2])\n",
        "l.insert(4,int(input()))\n",
        "l.insert(5,l[0]^l[1]^l[4])\n",
        "l.insert(6,l[0]^l[2]^l[4])\n",
        "\n",
        "\n",
        "print(\"CodeWord= \",l)"
      ],
      "execution_count": 1,
      "outputs": [
        {
          "output_type": "stream",
          "text": [
            "1\n",
            "0\n",
            "1\n",
            "1\n",
            "CodeWord=  [1, 0, 1, 0, 1, 0, 1]\n"
          ],
          "name": "stdout"
        }
      ]
    },
    {
      "cell_type": "code",
      "metadata": {
        "id": "dXJ1o32HoFqQ",
        "colab_type": "code",
        "colab": {
          "base_uri": "https://localhost:8080/",
          "height": 85
        },
        "outputId": "08134933-a2ea-4a74-9e89-dd7af5c6592e"
      },
      "source": [
        "#Recievers end\n",
        "x=input(\"Enter Code\")\n",
        "l=list(x)\n",
        "l=[int(x) for x in l]\n",
        "\n",
        "c1= l[0]^l[2]^l[4]^l[6]\n",
        "c2= l[0]^l[1]^l[4]^l[5]\n",
        "c3= l[0]^l[1]^l[2]^l[3]\n",
        "\n",
        "#Binary to decimal\n",
        "\n",
        "c=c3*4+c2*2+c1\n",
        "c\n",
        "\n",
        "\n",
        "if(c==0):\n",
        "    print(\"No Errors\")\n",
        "else:\n",
        "    print(\"Errors at\",c)\n",
        "    if(l[7-c]==0):\n",
        "        l[7-c]=1\n",
        "    else:\n",
        "        l[7-c]=0\n",
        "    print(\"Error Fixed\")\n",
        "\n",
        "print(\"Recieved= \",l)"
      ],
      "execution_count": 2,
      "outputs": [
        {
          "output_type": "stream",
          "text": [
            "Enter Code1110101\n",
            "Errors at 6\n",
            "Error Fixed\n",
            "Recieved=  [1, 0, 1, 0, 1, 0, 1]\n"
          ],
          "name": "stdout"
        }
      ]
    },
    {
      "cell_type": "code",
      "metadata": {
        "id": "XFuYvYinoNl0",
        "colab_type": "code",
        "colab": {
          "base_uri": "https://localhost:8080/",
          "height": 34
        },
        "outputId": "d3861128-b528-4610-b8dc-050fddd531e5"
      },
      "source": [
        "l1=l[0:3]\n",
        "l1.append(l[4])\n",
        "print(\"Final Data\" ,l1)"
      ],
      "execution_count": 7,
      "outputs": [
        {
          "output_type": "stream",
          "text": [
            "Final Data [1, 0, 1, 1]\n"
          ],
          "name": "stdout"
        }
      ]
    }
  ]
}