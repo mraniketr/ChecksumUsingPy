{
  "nbformat": 4,
  "nbformat_minor": 0,
  "metadata": {
    "colab": {
      "name": "Character Count",
      "provenance": [],
      "include_colab_link": true
    },
    "kernelspec": {
      "name": "python3",
      "display_name": "Python 3"
    }
  },
  "cells": [
    {
      "cell_type": "markdown",
      "metadata": {
        "id": "view-in-github",
        "colab_type": "text"
      },
      "source": [
        "<a href=\"https://colab.research.google.com/github/mraniketr/ComputerNetworkPrograms/blob/master/Character_Count.ipynb\" target=\"_parent\"><img src=\"https://colab.research.google.com/assets/colab-badge.svg\" alt=\"Open In Colab\"/></a>"
      ]
    },
    {
      "cell_type": "code",
      "metadata": {
        "id": "BvtIvn9WRX28",
        "colab_type": "code",
        "colab": {
          "base_uri": "https://localhost:8080/",
          "height": 102
        },
        "outputId": "55cc7688-202d-49a7-ebe4-ca8b22649dac"
      },
      "source": [
        "#Sender Side\n",
        "n=int(input(\"Enter the no. of frames\"))\n",
        "\n",
        "l=[]\n",
        "l2=[]\n",
        "for i in range(0,n):\n",
        "  x=input()\n",
        "  l.append(x)\n",
        "  l2.append(len(x)+1)\n",
        "\n",
        "\n",
        "sender=''\n",
        "for i in range(0,n):\n",
        "    sender+= str(l2[i])+l[i]\n",
        "print(sender)"
      ],
      "execution_count": 1,
      "outputs": [
        {
          "output_type": "stream",
          "text": [
            "Enter the no. of frames3\n",
            "i\n",
            "love\n",
            "python\n",
            "2i5love7python\n"
          ],
          "name": "stdout"
        }
      ]
    },
    {
      "cell_type": "code",
      "metadata": {
        "id": "2fvFLENpRmit",
        "colab_type": "code",
        "colab": {
          "base_uri": "https://localhost:8080/",
          "height": 85
        },
        "outputId": "8bfccc25-e681-496f-c0a3-71a2a42c8a33"
      },
      "source": [
        "#reciever side\n",
        "\n",
        "data=input(\"Enter The message\")\n",
        "\n",
        "i=0\n",
        "inv=0\n",
        "while(i<len(data)):\n",
        "    if(data[i].isnumeric()==True):\n",
        "        print(data[i+1:int(data[i])+i])\n",
        "        i+=int(data[i])"
      ],
      "execution_count": 2,
      "outputs": [
        {
          "output_type": "stream",
          "text": [
            "Enter The message2i5love7python\n",
            "i\n",
            "love\n",
            "python\n"
          ],
          "name": "stdout"
        }
      ]
    }
  ]
}