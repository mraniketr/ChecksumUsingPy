{
  "nbformat": 4,
  "nbformat_minor": 0,
  "metadata": {
    "colab": {
      "name": "CheckSum.ipynb",
      "provenance": [],
      "collapsed_sections": [],
      "include_colab_link": true
    },
    "kernelspec": {
      "name": "python3",
      "display_name": "Python 3"
    }
  },
  "cells": [
    {
      "cell_type": "markdown",
      "metadata": {
        "id": "view-in-github",
        "colab_type": "text"
      },
      "source": [
        "<a href=\"https://colab.research.google.com/github/mraniketr/ComputerNetworkPrograms/blob/master/Check%20Sum.ipynb\" target=\"_parent\"><img src=\"https://colab.research.google.com/assets/colab-badge.svg\" alt=\"Open In Colab\"/></a>"
      ]
    },
    {
      "cell_type": "code",
      "metadata": {
        "id": "eiKO65qHaKqc",
        "colab_type": "code",
        "outputId": "651d1626-3a40-43c9-cb9d-0e0e2a55ab51",
        "colab": {
          "base_uri": "https://localhost:8080/",
          "height": 170
        }
      },
      "source": [
        "# SENDER SIDE\n",
        "\n",
        "print(\"Enter 4 Bytes input \\n\")\n",
        "n1=int(input(),2)\n",
        "n2=int(input(),2)\n",
        "n3=int(input(),2)\n",
        "n4=int(input(),2)\n",
        "\n",
        "sum=bin(n1+n2+n3+n4)[2:]\n",
        "\n",
        "print(\"SUM = \",sum)\n",
        "\n",
        "limit=len(sum)\n",
        "\n",
        "if limit>8:\n",
        "  extra=limit-8\n",
        "  add1=sum[0:extra]\n",
        "  add2=sum[extra:]\n",
        "  sum=bin(int(add1,2)+int(add2,2))[2:]\n",
        "  \n",
        "\n",
        "len2=len(sum)\n",
        "append=8-len2\n",
        "\n",
        "\n",
        "finalsum='0'*append + sum\n",
        "print(\"Wrapped Sum = \",finalsum)\n",
        "\n",
        "# Function to complement a value\n",
        "\n",
        "def complem(data):\n",
        "  cs=''\n",
        "  for x in data:\n",
        "    if x=='0':\n",
        "      cs+='1'\n",
        "    else:\n",
        "      cs+='0'\n",
        "  return cs\n",
        "\n",
        "checksum=complem(finalsum)\n",
        "\n",
        "print(\"CheckSum = \",checksum)"
      ],
      "execution_count": 3,
      "outputs": [
        {
          "output_type": "stream",
          "text": [
            "Enter 4 Bytes input \n",
            "\n",
            "10011001\n",
            "11100010\n",
            "00100100\n",
            "10000100\n",
            "SUM =  1000100011\n",
            "Wrapped Sum =  00100101\n",
            "CheckSum =  11011010\n"
          ],
          "name": "stdout"
        }
      ]
    },
    {
      "cell_type": "code",
      "metadata": {
        "id": "M-k0UcCul4qi",
        "colab_type": "code",
        "outputId": "c963d1d6-a854-42aa-ce4b-20ca216b25b9",
        "colab": {
          "base_uri": "https://localhost:8080/",
          "height": 68
        }
      },
      "source": [
        "# RECIEVER SIDE\n",
        "\n",
        "# Same as sum till we get final sum\n",
        "#pass the final sum and checksum and  calculate their sum\n",
        "\n",
        "finalsum2= int(input(\"ENTER WRAPPED SUM\"),2)\n",
        "checksum2= int(input(\"ENTER CHECKSUM\"),2)\n",
        "\n",
        "sum=bin(finalsum2+checksum2)[2:]\n",
        "\n",
        "res=complem(sum)\n",
        "\n",
        "print(\"WR SUM + CHK SUM\",res)"
      ],
      "execution_count": 4,
      "outputs": [
        {
          "output_type": "stream",
          "text": [
            "ENTER WRAPPED SUM00100101\n",
            "ENTER CHECKSUM11011010\n",
            "WR SUM + CHK SUM 00000000\n"
          ],
          "name": "stdout"
        }
      ]
    },
    {
      "cell_type": "code",
      "metadata": {
        "id": "MejBAHikoH-x",
        "colab_type": "code",
        "outputId": "031a4591-0c83-4481-c233-876e3c81050a",
        "colab": {
          "base_uri": "https://localhost:8080/",
          "height": 34
        }
      },
      "source": [
        "val=int(res,2)\n",
        "\n",
        "if(val==0):\n",
        "  print(\"Valid Checksum\")\n",
        "else:\n",
        "  print(\"Invalid Checksum\")"
      ],
      "execution_count": 5,
      "outputs": [
        {
          "output_type": "stream",
          "text": [
            "Valid Checksum\n"
          ],
          "name": "stdout"
        }
      ]
    }
  ]
}