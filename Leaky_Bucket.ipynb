{
  "nbformat": 4,
  "nbformat_minor": 0,
  "metadata": {
    "colab": {
      "name": "Leaky Bucket.ipynb",
      "provenance": [],
      "include_colab_link": true
    },
    "kernelspec": {
      "name": "python3",
      "display_name": "Python 3"
    }
  },
  "cells": [
    {
      "cell_type": "markdown",
      "metadata": {
        "id": "view-in-github",
        "colab_type": "text"
      },
      "source": [
        "<a href=\"https://colab.research.google.com/github/mraniketr/ComputerNetworkPrograms/blob/master/Leaky_Bucket.ipynb\" target=\"_parent\"><img src=\"https://colab.research.google.com/assets/colab-badge.svg\" alt=\"Open In Colab\"/></a>"
      ]
    },
    {
      "cell_type": "code",
      "metadata": {
        "id": "HfIDDNlAVXh1",
        "colab_type": "code",
        "colab": {
          "base_uri": "https://localhost:8080/",
          "height": 221
        },
        "outputId": "a53071d2-19bc-4a63-8526-96beb4a985f8"
      },
      "source": [
        "bucketsize = int(input(\"Enter Bucket Size\"))\n",
        "simtime = int(input(\"Enter Time to simulate\"))\n",
        "rate = int(input(\"Enter the processing rate\"))\n",
        "\n",
        "Rpacket=list() # Recieved /sent /left Packets\n",
        "Spacket=list()\n",
        "Lpacket=[0]\n",
        "Dpacket=list()\n",
        "\n",
        "time=[i for i in range(0,simtime)]\n",
        "\n",
        "for i in range(0,simtime):\n",
        "    Rpacket.append(int(input(\"Enter Packet \")))\n",
        "\n",
        "\n",
        "for i in range(0,simtime):\n",
        "    if((Rpacket[i]+Lpacket[i])>bucketsize):\n",
        "        Dpacket.append((Rpacket[i]+Lpacket[i])-bucketsize)\n",
        "        Spacket.append(2)\n",
        "    elif(Rpacket[i]+Lpacket[i]<rate):\n",
        "        Dpacket.append(0)\n",
        "        Spacket.append(0)\n",
        "    else:\n",
        "        Dpacket.append(0)\n",
        "        Spacket.append(2)\n",
        "    \n",
        "    \n",
        "    Lpacket.append((Lpacket[i]+Rpacket[i])-Spacket[i]-Dpacket[i])\n",
        "\n",
        "\n",
        "print(\"Time\",time)\n",
        "print(\"Reci\",Rpacket)\n",
        "print(\"Drop\",Dpacket)\n",
        "print(\"Sent\",Spacket)\n",
        "print(\"Left\",Lpacket[1:])\n",
        "\n"
      ],
      "execution_count": 1,
      "outputs": [
        {
          "output_type": "stream",
          "text": [
            "Enter Bucket Size5\n",
            "Enter Time to simulate4\n",
            "Enter the processing rate2\n",
            "Enter Packet 6\n",
            "Enter Packet 1\n",
            "Enter Packet 4\n",
            "Enter Packet 2\n",
            "Time [0, 1, 2, 3]\n",
            "Reci [6, 1, 4, 2]\n",
            "Drop [1, 0, 1, 0]\n",
            "Sent [2, 2, 2, 2]\n",
            "Left [3, 2, 3, 3]\n"
          ],
          "name": "stdout"
        }
      ]
    }
  ]
}