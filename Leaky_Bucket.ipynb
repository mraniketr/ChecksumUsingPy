{
  "nbformat": 4,
  "nbformat_minor": 0,
  "metadata": {
    "colab": {
      "name": "Leaky Bucket.ipynb",
      "provenance": [],
      "include_colab_link": true
    },
    "kernelspec": {
      "name": "python3",
      "display_name": "Python 3"
    }
  },
  "cells": [
    {
      "cell_type": "markdown",
      "metadata": {
        "id": "view-in-github",
        "colab_type": "text"
      },
      "source": [
        "<a href=\"https://colab.research.google.com/github/mraniketr/ComputerNetworkPrograms/blob/master/Leaky_Bucket.ipynb\" target=\"_parent\"><img src=\"https://colab.research.google.com/assets/colab-badge.svg\" alt=\"Open In Colab\"/></a>"
      ]
    },
    {
      "cell_type": "code",
      "metadata": {
        "id": "HfIDDNlAVXh1",
        "colab_type": "code",
        "outputId": "395f14d8-e0b2-40e0-b479-c7d1cc110005",
        "colab": {
          "base_uri": "https://localhost:8080/",
          "height": 238
        }
      },
      "source": [
        "bucketsize = int(input(\"Enter Bucket Size\"))\n",
        "simtime = int(input(\"Enter Time to simulate\"))\n",
        "rate = int(input(\"Enter the processing rate\"))\n",
        "\n",
        "Rpacket=list() # Recieved /sent /left Packets\n",
        "Spacket=list()\n",
        "Lpacket=[0]\n",
        "Dpacket=list()\n",
        "\n",
        "time=[i for i in range(0,simtime)]\n",
        "\n",
        "for i in range(0,simtime):\n",
        "    Rpacket.append(int(input(\"Enter Packet \")))\n",
        "\n",
        "\n",
        "for i in range(0,simtime):\n",
        "    if((Rpacket[i]+Lpacket[i])>bucketsize):\n",
        "        Dpacket.append((Rpacket[i]+Lpacket[i])-bucketsize)\n",
        "        Spacket.append(rate)\n",
        "    elif(Rpacket[i]+Lpacket[i]<rate):\n",
        "        Dpacket.append(0)\n",
        "        Spacket.append(0)\n",
        "    else:\n",
        "        Dpacket.append(0)\n",
        "        Spacket.append(rate)\n",
        "    \n",
        "    \n",
        "    Lpacket.append((Lpacket[i]+Rpacket[i])-Spacket[i]-Dpacket[i])\n",
        "\n",
        "\n",
        "print(\"Time\",time)\n",
        "print(\"Reci\",Rpacket)\n",
        "print(\"Drop\",Dpacket)\n",
        "print(\"Sent\",Spacket)\n",
        "print(\"Left\",Lpacket[1:])\n",
        "\n"
      ],
      "execution_count": 2,
      "outputs": [
        {
          "output_type": "stream",
          "text": [
            "Enter Bucket Size100\n",
            "Enter Time to simulate5\n",
            "Enter the processing rate50\n",
            "Enter Packet 80\n",
            "Enter Packet 100\n",
            "Enter Packet 400\n",
            "Enter Packet 10\n",
            "Enter Packet 5\n",
            "Time [0, 1, 2, 3, 4]\n",
            "Reci [80, 100, 400, 10, 5]\n",
            "Drop [0, 30, 350, 0, 0]\n",
            "Sent [50, 50, 50, 50, 0]\n",
            "Left [30, 50, 50, 10, 15]\n"
          ],
          "name": "stdout"
        }
      ]
    }
  ]
}