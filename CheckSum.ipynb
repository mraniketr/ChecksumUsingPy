{
  "nbformat": 4,
  "nbformat_minor": 0,
  "metadata": {
    "colab": {
      "name": "CheckSum.ipynb",
      "provenance": [],
      "collapsed_sections": [],
      "include_colab_link": true
    },
    "kernelspec": {
      "name": "python3",
      "display_name": "Python 3"
    }
  },
  "cells": [
    {
      "cell_type": "markdown",
      "metadata": {
        "id": "view-in-github",
        "colab_type": "text"
      },
      "source": [
        "<a href=\"https://colab.research.google.com/github/mraniketr/ChecksumUsingPy/blob/master/CheckSum.ipynb\" target=\"_parent\"><img src=\"https://colab.research.google.com/assets/colab-badge.svg\" alt=\"Open In Colab\"/></a>"
      ]
    },
    {
      "cell_type": "code",
      "metadata": {
        "id": "eiKO65qHaKqc",
        "colab_type": "code",
        "colab": {
          "base_uri": "https://localhost:8080/",
          "height": 126
        },
        "outputId": "8c357989-890e-4990-e814-6585b0f00a73"
      },
      "source": [
        "# SENDER SIDE\n",
        "\n",
        "n1=int(input(),2)\n",
        "n2=int(input(),2)\n",
        "n3=int(input(),2)\n",
        "n4=int(input(),2)\n",
        "\n",
        "sum=bin(n1+n2+n3+n4)[2:]\n",
        "print(sum)\n",
        "\n",
        "limit=len(sum)\n",
        "\n",
        "if limit>8:\n",
        "  extra=limit-8\n",
        "  add1=sum[0:extra]\n",
        "  add2=sum[extra:]\n",
        "  sum=bin(int(add1,2)+int(add2,2))[2:]\n",
        "  print(sum)\n",
        "  \n",
        "  "
      ],
      "execution_count": 37,
      "outputs": [
        {
          "output_type": "stream",
          "text": [
            "10011001\n",
            "11100010\n",
            "00100100\n",
            "10000100\n",
            "1000100011\n",
            "100101\n"
          ],
          "name": "stdout"
        }
      ]
    },
    {
      "cell_type": "code",
      "metadata": {
        "id": "J-vHoDYOiW8n",
        "colab_type": "code",
        "colab": {
          "base_uri": "https://localhost:8080/",
          "height": 54
        },
        "outputId": "37bdb6f8-7589-438d-836f-1970dc7fd358"
      },
      "source": [
        "len2=len(sum)\n",
        "append=8-len2\n",
        "\n",
        "\n",
        "finalsum='0'*append + sum\n",
        "print(\"Wrapped Sum = \",finalsum)\n",
        "\n",
        "# Function to complement a value\n",
        "\n",
        "def complem(data):\n",
        "  cs=''\n",
        "  for x in data:\n",
        "    if x=='0':\n",
        "      cs+='1'\n",
        "    else:\n",
        "      cs+='0'\n",
        "  return cs\n",
        "\n",
        "checksum=complem(finalsum)\n",
        "\n",
        "print(\"CheckSum = \",checksum)"
      ],
      "execution_count": 39,
      "outputs": [
        {
          "output_type": "stream",
          "text": [
            "Wrapped Sum =  00100101\n",
            "CheckSum =  11011010\n"
          ],
          "name": "stdout"
        }
      ]
    },
    {
      "cell_type": "code",
      "metadata": {
        "id": "M-k0UcCul4qi",
        "colab_type": "code",
        "colab": {
          "base_uri": "https://localhost:8080/",
          "height": 72
        },
        "outputId": "409d725b-1dd2-4f5b-8257-288f0627c5a5"
      },
      "source": [
        "# RECIEVER SIDE\n",
        "\n",
        "# Same as sum till we get final sum\n",
        "#pass the final sum and checksum and  calculate their sum\n",
        "\n",
        "finalsum2= int(input(),2)\n",
        "checksum2= int(input(),2)\n",
        "\n",
        "sum=bin(finalsum2+checksum2)[2:]\n",
        "\n",
        "res=complem(sum)\n",
        "print(res)"
      ],
      "execution_count": 42,
      "outputs": [
        {
          "output_type": "stream",
          "text": [
            "00100101\n",
            "11011010\n",
            "00000000\n"
          ],
          "name": "stdout"
        }
      ]
    },
    {
      "cell_type": "code",
      "metadata": {
        "id": "MejBAHikoH-x",
        "colab_type": "code",
        "colab": {
          "base_uri": "https://localhost:8080/",
          "height": 35
        },
        "outputId": "9db29a86-0c30-48b0-95d6-310de3259cc7"
      },
      "source": [
        "val=int(res,2)\n",
        "\n",
        "if(val==0):\n",
        "  print(\"Valid Checksum\")\n",
        "else:\n",
        "  print(\"Invalid Checksum\")"
      ],
      "execution_count": 45,
      "outputs": [
        {
          "output_type": "stream",
          "text": [
            "Valid Checksum\n"
          ],
          "name": "stdout"
        }
      ]
    }
  ]
}